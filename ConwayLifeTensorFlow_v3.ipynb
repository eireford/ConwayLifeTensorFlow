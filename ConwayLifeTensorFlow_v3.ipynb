{
  "nbformat": 4,
  "nbformat_minor": 0,
  "metadata": {
    "colab": {
      "name": "ConwayLifeTensorFlow_v3.ipynb",
      "provenance": [],
      "collapsed_sections": [],
      "include_colab_link": true
    },
    "kernelspec": {
      "name": "python3",
      "display_name": "Python 3"
    }
  },
  "cells": [
    {
      "cell_type": "markdown",
      "metadata": {
        "id": "view-in-github",
        "colab_type": "text"
      },
      "source": [
        "<a href=\"https://colab.research.google.com/github/eireford/ConwayLifeTensorFlow/blob/master/ConwayLifeTensorFlow_v3.ipynb\" target=\"_parent\"><img src=\"https://colab.research.google.com/assets/colab-badge.svg\" alt=\"Open In Colab\"/></a>"
      ]
    },
    {
      "cell_type": "code",
      "metadata": {
        "colab_type": "code",
        "id": "ioLbtB3uGKPX",
        "outputId": "5dc588d6-d7c2-47d7-a17b-42090919e5ff",
        "colab": {
          "base_uri": "https://localhost:8080/",
          "height": 35
        }
      },
      "source": [
        "try:\n",
        "  # %tensorflow_version only exists in Colab.\n",
        "  %tensorflow_version 2.x\n",
        "except Exception:\n",
        "  pass"
      ],
      "execution_count": 1,
      "outputs": [
        {
          "output_type": "stream",
          "text": [
            "TensorFlow 2.x selected.\n"
          ],
          "name": "stdout"
        }
      ]
    },
    {
      "cell_type": "code",
      "metadata": {
        "id": "uO7F-wCEewpI",
        "colab_type": "code",
        "colab": {}
      },
      "source": [
        "from __future__ import absolute_import, division, print_function, unicode_literals"
      ],
      "execution_count": 0,
      "outputs": []
    },
    {
      "cell_type": "code",
      "metadata": {
        "id": "Vo6ZQhOne9q4",
        "colab_type": "code",
        "colab": {}
      },
      "source": [
        "import tensorflow as tf"
      ],
      "execution_count": 0,
      "outputs": []
    },
    {
      "cell_type": "code",
      "metadata": {
        "id": "_kZ4Vfjue9aY",
        "colab_type": "code",
        "colab": {}
      },
      "source": [
        "import pathlib\n",
        "import matplotlib.pyplot as plt\n",
        "import pandas as pd\n",
        "import numpy as np\n",
        "\n",
        "np.set_printoptions(precision=4)"
      ],
      "execution_count": 0,
      "outputs": []
    },
    {
      "cell_type": "markdown",
      "metadata": {
        "id": "IJRwMfuM6AZx",
        "colab_type": "text"
      },
      "source": [
        "While the rules of the game of life can be simplified, we are going to experiment using the rules that are othagonal to Conways conceptualization.\n",
        "1. Any live cell with fewer than two live neighbours dies, as if by underpopulation.\n",
        "2. Any live cell with two or three live neighbours lives on to the next generation.\n",
        "3. Any live cell with more than three live neighbours dies, as if by overpopulation.\n",
        "4. Any dead cell with exactly three live neighbours becomes a live cell, as if by reproduction.\n",
        "\n",
        "For these rules we are going to denormalize \n",
        " survive_min, survive_max, reproduce_min, reproduce_max"
      ]
    },
    {
      "cell_type": "code",
      "metadata": {
        "id": "vvMn1uJFfJDX",
        "colab_type": "code",
        "colab": {}
      },
      "source": [
        "life_density_kernal = tf.constant([1,1,1,1,10,1,1,1,1],dtype=tf.float32)\n",
        "data_set_size = tf.constant([30],dtype=tf.int32)\n",
        "sustainable_mean = tf.constant([12.5],dtype=tf.float32)\n",
        "sustainable_range = tf.constant([2],dtype=tf.float32)\n",
        "productive_mean = tf.constant([3],dtype=tf.float32)\n",
        "productive_range = tf.constant([1],dtype=tf.float32)"
      ],
      "execution_count": 0,
      "outputs": []
    },
    {
      "cell_type": "code",
      "metadata": {
        "id": "ALxK1wPam6EY",
        "colab_type": "code",
        "colab": {}
      },
      "source": [
        "def sustainable(x_sum): \n",
        "  lower_bound = sustainable_mean - (sustainable_range/2)\n",
        "  upper_bound = sustainable_mean + (sustainable_range/2)\n",
        "  if lower_bound < x_sum and x_sum < upper_bound:\n",
        "    return tf.constant([1],dtype=tf.float32)\n",
        "  else: return tf.constant([0],dtype=tf.float32)\n",
        "def productive(x_sum):\n",
        "  lower_bound = productive_mean - (productive_range/2)\n",
        "  upper_bound = productive_mean + (productive_range/2)\n",
        "  if lower_bound < x_sum and x_sum < upper_bound:\n",
        "    return tf.constant([1],dtype=tf.float32)\n",
        "  else: return tf.constant([0],dtype=tf.float32)\n",
        "  return lower_bound < x_sum and x_sum < upper_bound\n",
        "def sustainable_and_productive(x):\n",
        "  x_sum = tf.reduce_sum(x)\n",
        "  is_sustainable = sustainable(x_sum)\n",
        "  is_productive = productive(x_sum)\n",
        "  result = tf.concat([is_sustainable,is_productive],axis=0,name=\"label\")\n",
        "  return result"
      ],
      "execution_count": 0,
      "outputs": []
    },
    {
      "cell_type": "markdown",
      "metadata": {
        "id": "CNxtawmEnHj2",
        "colab_type": "text"
      },
      "source": [
        "Create a random dataset as simply as possible."
      ]
    },
    {
      "cell_type": "code",
      "metadata": {
        "id": "U_dtF5b_q5U_",
        "colab_type": "code",
        "colab": {}
      },
      "source": [
        "def get_data_examples(count):\n",
        "  for i in range(count*2):\n",
        "    data = tf.round(tf.random.uniform([life_density_kernal.shape[0]],minval=0,maxval=1,dtype=tf.float32),name=\"data\")\n",
        "    #print(data)\n",
        "    data_sum = tf.reduce_sum(data)\n",
        "    #print(data_sum)\n",
        "    label = sustainable_and_productive(data_sum)\n",
        "    result = (data,label)\n",
        "    yield result"
      ],
      "execution_count": 0,
      "outputs": []
    },
    {
      "cell_type": "code",
      "metadata": {
        "id": "2BbMClpSsUtp",
        "colab_type": "code",
        "colab": {
          "base_uri": "https://localhost:8080/",
          "height": 35
        },
        "outputId": "74e51d0d-54ce-49d8-d780-718003f2dcb8"
      },
      "source": [
        "def a_typical_run():\n",
        "  data_gen = get_data_examples(100_000)\n",
        "  for data in data_gen:\n",
        "    element = next(data_gen)\n",
        "\n",
        "%timeit a_typical_run()"
      ],
      "execution_count": 86,
      "outputs": [
        {
          "output_type": "stream",
          "text": [
            "1 loop, best of 3: 1min 38s per loop\n"
          ],
          "name": "stdout"
        }
      ]
    }
  ]
}