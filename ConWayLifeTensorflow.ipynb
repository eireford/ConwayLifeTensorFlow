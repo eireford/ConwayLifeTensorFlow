{
  "nbformat": 4,
  "nbformat_minor": 0,
  "metadata": {
    "colab": {
      "name": "ConWayLifeTensorflow.ipynb",
      "provenance": [],
      "collapsed_sections": [],
      "include_colab_link": true
    },
    "kernelspec": {
      "name": "python3",
      "display_name": "Python 3"
    }
  },
  "cells": [
    {
      "cell_type": "markdown",
      "metadata": {
        "id": "view-in-github",
        "colab_type": "text"
      },
      "source": [
        "<a href=\"https://colab.research.google.com/github/eireford/ConwayLifeTensorFlow/blob/master/ConWayLifeTensorflow.ipynb\" target=\"_parent\"><img src=\"https://colab.research.google.com/assets/colab-badge.svg\" alt=\"Open In Colab\"/></a>"
      ]
    },
    {
      "cell_type": "markdown",
      "metadata": {
        "id": "7VKC-Ti81Fpj",
        "colab_type": "text"
      },
      "source": [
        "Conway's Game Of Life on TensorFlow"
      ]
    },
    {
      "cell_type": "markdown",
      "metadata": {
        "id": "U9XVXMpjy181",
        "colab_type": "text"
      },
      "source": [
        "[Conways Game of life](https://en.wikipedia.org/wiki/Conway%27s_Game_of_Life) is an example of a problem that is [\"Embarassingly Parallel\"](https://en.wikipedia.org/wiki/Embarrassingly_parallel), each step in it's calculation only requires a limited logically proximal subset of data. Tensorflow facilitates running this operation in a distributed fashion."
      ]
    },
    {
      "cell_type": "code",
      "metadata": {
        "colab_type": "code",
        "id": "ioLbtB3uGKPX",
        "outputId": "efb8aa88-ffdb-4b5b-e38a-2b5f051e2b9c",
        "colab": {
          "base_uri": "https://localhost:8080/",
          "height": 35
        }
      },
      "source": [
        "try:\n",
        "  # %tensorflow_version only exists in Colab.\n",
        "  %tensorflow_version 2.x\n",
        "except Exception:\n",
        "  pass"
      ],
      "execution_count": 1,
      "outputs": [
        {
          "output_type": "stream",
          "text": [
            "TensorFlow 2.x selected.\n"
          ],
          "name": "stdout"
        }
      ]
    },
    {
      "cell_type": "code",
      "metadata": {
        "id": "IHrAJcTG0zpc",
        "colab_type": "code",
        "colab": {}
      },
      "source": [
        "from __future__ import absolute_import, division, print_function, unicode_literals\n",
        "import os\n",
        "import tensorflow as tf\n",
        "import cProfile\n",
        "import matplotlib.pyplot as plt\n",
        "import matplotlib.colors as mcolors"
      ],
      "execution_count": 0,
      "outputs": []
    },
    {
      "cell_type": "code",
      "metadata": {
        "id": "shpddfzr3Yzj",
        "colab_type": "code",
        "colab": {}
      },
      "source": [
        "floor_size = 10\n",
        "floor_shape = (floor_size,floor_size)\n",
        "#for reproducability reuse seed\n",
        "seed = (1000) \n",
        "random_floor = tf.round((tf.random.uniform(floor_shape,dtype=tf.float32, seed=seed, name='random_floor')))"
      ],
      "execution_count": 0,
      "outputs": []
    },
    {
      "cell_type": "code",
      "metadata": {
        "id": "DA8k-qP2QiZ6",
        "colab_type": "code",
        "outputId": "c2bb2df7-58c5-4dfb-82c1-d02b99e58df3",
        "colab": {
          "base_uri": "https://localhost:8080/",
          "height": 265
        }
      },
      "source": [
        "#plt.gcf().set_size_inches(6,6)\n",
        "figure_1 = plt.imshow(tf.slice(random_floor,(0,0),(10,10)),cmap='Greys',origin='upper',interpolation='nearest')"
      ],
      "execution_count": 4,
      "outputs": [
        {
          "output_type": "display_data",
          "data": {
            "image/png": "[encoded data removed]",
            "text/plain": [
              "<Figure size 432x288 with 1 Axes>"
            ]
          },
          "metadata": {
            "tags": []
          }
        }
      ]
    },
    {
      "cell_type": "code",
      "metadata": {
        "id": "WwOuxMMNUmVO",
        "colab_type": "code",
        "outputId": "c6bb4815-4f70-47b2-902b-78acf4f38f20",
        "colab": {
          "base_uri": "https://localhost:8080/",
          "height": 54
        }
      },
      "source": [
        "alive_total = tf.reduce_sum(random_floor)\n",
        "ratio_alive = tf.divide(alive_total,floor_shape[0]*floor_shape[1])\n",
        "print(\"alive_total\",int(alive_total))\n",
        "print(\"alive_percent\",float(ratio_alive*100))\n"
      ],
      "execution_count": 5,
      "outputs": [
        {
          "output_type": "stream",
          "text": [
            "alive_total 50\n",
            "alive_percent 50.0\n"
          ],
          "name": "stdout"
        }
      ]
    },
    {
      "cell_type": "code",
      "metadata": {
        "id": "QRjgWxocFfym",
        "colab_type": "code",
        "colab": {}
      },
      "source": [
        "livable_filter = tf.constant([\n",
        "                                [1,1,1],\n",
        "                                [1,10,1],\n",
        "                                [1,1,1]\n",
        "                                ],dtype=tf.float32,name='neighbors_filter')\n",
        "kernal = tf.reshape(livable_filter, [3, 3, 1, 1], name='kernel')\n",
        "image = tf.reshape(random_floor, [1, floor_size, floor_size, 1], name='image')\n",
        "livable_convolution = tf.reshape(tf.nn.conv2d(image,kernal,[1,1,1,1],\"SAME\"),[10,10])"
      ],
      "execution_count": 0,
      "outputs": []
    },
    {
      "cell_type": "code",
      "metadata": {
        "id": "fyhrOtdDQJ8S",
        "colab_type": "code",
        "outputId": "21ddd8b3-e31a-4aad-9f65-0a12529b1df5",
        "colab": {
          "base_uri": "https://localhost:8080/",
          "height": 199
        }
      },
      "source": [
        "tf.print(livable_convolution,summarize=-1)"
      ],
      "execution_count": 7,
      "outputs": [
        {
          "output_type": "stream",
          "text": [
            "[[12 13 4 14 13 4 11 2 0 0]\n",
            " [12 5 14 15 14 5 13 4 2 1]\n",
            " [3 6 14 5 3 13 4 13 12 2]\n",
            " [12 15 14 3 1 3 14 5 5 12]\n",
            " [5 17 16 5 3 5 14 14 5 13]\n",
            " [13 15 15 14 14 16 16 6 15 13]\n",
            " [4 15 6 6 15 16 14 13 4 12]\n",
            " [3 14 13 5 13 5 3 2 3 2]\n",
            " [11 4 12 4 12 4 3 2 3 11]\n",
            " [1 2 1 2 2 12 12 11 3 11]]\n"
          ],
          "name": "stdout"
        }
      ]
    },
    {
      "cell_type": "code",
      "metadata": {
        "id": "GR11DBd2XLm5",
        "colab_type": "code",
        "outputId": "c2fb69e4-283a-4815-f6e2-24abeb5fdc58",
        "colab": {
          "base_uri": "https://localhost:8080/",
          "height": 199
        }
      },
      "source": [
        "stage1 = tf.where(livable_convolution == 3,13,livable_convolution)\n",
        "#tf.print(stage1,summarize=-1)\n",
        "stage2 = tf.where(livable_convolution == 12,13,livable_convolution)\n",
        "#tf.print(stage2,summarize=-1)\n",
        "stage3 = tf.where(livable_convolution != 13,0,1)\n",
        "tf.print(stage3,summarize=-1)\n"
      ],
      "execution_count": 8,
      "outputs": [
        {
          "output_type": "stream",
          "text": [
            "[[0 1 0 0 1 0 0 0 0 0]\n",
            " [0 0 0 0 0 0 1 0 0 0]\n",
            " [0 0 0 0 0 1 0 1 0 0]\n",
            " [0 0 0 0 0 0 0 0 0 0]\n",
            " [0 0 0 0 0 0 0 0 0 1]\n",
            " [1 0 0 0 0 0 0 0 0 1]\n",
            " [0 0 0 0 0 0 0 1 0 0]\n",
            " [0 0 1 0 1 0 0 0 0 0]\n",
            " [0 0 0 0 0 0 0 0 0 0]\n",
            " [0 0 0 0 0 0 0 0 0 0]]\n"
          ],
          "name": "stdout"
        }
      ]
    },
    {
      "cell_type": "code",
      "metadata": {
        "id": "Z-rYwbKZbcz9",
        "colab_type": "code",
        "outputId": "a420bdb4-10d0-4e50-bdcd-b8c12bb35a6a",
        "colab": {
          "base_uri": "https://localhost:8080/",
          "height": 265
        }
      },
      "source": [
        "figure_2 = plt.imshow(tf.slice(stage3,(0,0),(10,10)),cmap='Greys',origin='upper',interpolation='nearest')"
      ],
      "execution_count": 9,
      "outputs": [
        {
          "output_type": "display_data",
          "data": {
            "image/png": "[encoded data removed]",
            "text/plain": [
              "<Figure size 432x288 with 1 Axes>"
            ]
          },
          "metadata": {
            "tags": []
          }
        }
      ]
    },
    {
      "cell_type": "code",
      "metadata": {
        "colab_type": "code",
        "outputId": "13215078-47ff-431e-e057-b4a056c707cc",
        "id": "QUi1Esd70Bu5",
        "colab": {
          "base_uri": "https://localhost:8080/",
          "height": 54
        }
      },
      "source": [
        "alive_total = tf.reduce_sum(stage3)\n",
        "ratio_alive = tf.divide(alive_total,floor_shape[0]*floor_shape[1])\n",
        "print(\"alive_total\",int(alive_total))\n",
        "print(\"alive_percent\",float(ratio_alive*100))\n"
      ],
      "execution_count": 12,
      "outputs": [
        {
          "output_type": "stream",
          "text": [
            "alive_total 11\n",
            "alive_percent 11.0\n"
          ],
          "name": "stdout"
        }
      ]
    },
    {
      "cell_type": "markdown",
      "metadata": {
        "colab_type": "text",
        "id": "Xukejid3n9PK"
      },
      "source": [
        "Credits\n",
        " - https://en.wikipedia.org/wiki/Conway%27s_Game_of_Life\n",
        " - https://nostarch.com/download/samples/PythonPlayground_sampleCh3.pdf\n",
        " - https://databricks.com/tensorflow/custom-functions\n",
        " - http://drsfenner.org/blog/2015/07/game-of-life-in-numpy-preliminaries-2/"
      ]
    }
  ]
}